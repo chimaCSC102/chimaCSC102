{
 "cells": [
  {
   "cell_type": "markdown",
   "id": "b5deb023",
   "metadata": {},
   "source": [
    "# Project 1"
   ]
  },
  {
   "cell_type": "code",
   "execution_count": 1,
   "id": "fed16fbc",
   "metadata": {},
   "outputs": [
    {
     "name": "stdout",
     "output_type": "stream",
     "text": [
      "Enter Course name  CSC 201\n",
      "  CSC 201\n",
      "20\n",
      "Enter Course nameCSC 205\n",
      "CSC 205\n",
      "30\n",
      "Enter Course nameSTA 205\n",
      "STA 205\n",
      "40\n",
      "Total score is 90\n",
      "The Average of the students is 30.0\n",
      "The percentages of the scores are 22.22222222222222 33.33333333333333 44.44444444444444\n"
     ]
    }
   ],
   "source": [
    "def score_report(x,y,z):\n",
    "    print(str(input(\"Enter Course name\")))\n",
    "    print(int(x))\n",
    "    print(str(input(\"Enter Course name\")))\n",
    "    print(int(y))\n",
    "    print(str(input(\"Enter Course name\")))\n",
    "    print(int(z))\n",
    "    #total\n",
    "    print(\"Total score is\",(x+y+z))\n",
    "    #average\n",
    "    print(\"The Average of the students is\",((x+y+z)/3))\n",
    "    #percentage\n",
    "    print(\"The percentages of the scores are\",((x)/(x+y+z))*100,((y)/(x+y+z))*100,((z)/(x+y+z))*100) \n",
    "    \n",
    "    \n",
    "score_report(20,30,40)    "
   ]
  },
  {
   "cell_type": "markdown",
   "id": "1fe09b52",
   "metadata": {},
   "source": [
    "# PROJECT 2"
   ]
  },
  {
   "cell_type": "code",
   "execution_count": 2,
   "id": "e6d1095c",
   "metadata": {},
   "outputs": [],
   "source": [
    "# I DECIDED TO EXPORT TO EXCEL \n",
    "from openpyxl import Workbook,load_workbook"
   ]
  },
  {
   "cell_type": "code",
   "execution_count": 3,
   "id": "92aa8f72",
   "metadata": {},
   "outputs": [],
   "source": [
    "wb = Workbook()"
   ]
  },
  {
   "cell_type": "code",
   "execution_count": 4,
   "id": "16db0feb",
   "metadata": {},
   "outputs": [],
   "source": [
    "ws = wb.active"
   ]
  },
  {
   "cell_type": "code",
   "execution_count": 5,
   "id": "9054d4bb",
   "metadata": {},
   "outputs": [],
   "source": [
    "ws.title = ('NIGERIAN FOUNDARIES LMITED')"
   ]
  },
  {
   "cell_type": "code",
   "execution_count": 7,
   "id": "37697f95",
   "metadata": {},
   "outputs": [],
   "source": [
    "ws.append(['NIGERIAN FOUNDARIES LIMITED'])\n",
    "ws.append(['Employee Name','Years Of Service','Accumulated Benefits','Accrued Benefits'])\n",
    "ws.append(['Akanbi Joel','16','300','4800'])\n",
    "ws.append(['Delegiwa Olaye','12','150','1800'])\n",
    "ws.append(['Martha Ojeh','20','100','2000'])\n",
    "ws.append(['Fadiku Ojo','15','450','6750'])\n",
    "ws.append(['Olaye Tunde','11','200','2200'])\n",
    "ws.append(['Michal Jobs','30','170','5100'])\n",
    "ws.append(['Adegbesan Ani','10','250','2500'])\n",
    "ws.append(['Faith Moses','22','80','1760'])\n",
    "ws.append(['Juwon Ade','12','120','1440'])\n",
    "ws.append(['Edward Lawal','9','280','2520'])\n"
   ]
  },
  {
   "cell_type": "code",
   "execution_count": 8,
   "id": "5e0e6cad",
   "metadata": {},
   "outputs": [],
   "source": [
    "wb.save('WEEK 13 PROJECT 2 ANSWER.xlsx')"
   ]
  },
  {
   "cell_type": "code",
   "execution_count": 6,
   "id": "a0491808",
   "metadata": {},
   "outputs": [
    {
     "name": "stdout",
     "output_type": "stream",
     "text": [
      "4800\n",
      "1800\n",
      "2000\n",
      "6750\n",
      "2200\n",
      "5100\n",
      "2500\n",
      "1760\n",
      "1440\n",
      "2520\n"
     ]
    }
   ],
   "source": [
    "def accured_benefits(x,y):\n",
    "    print(x*y)\n",
    "accured_benefits(300,16)\n",
    "accured_benefits(150,12)\n",
    "accured_benefits(100,20)\n",
    "accured_benefits(450,15)\n",
    "accured_benefits(200,11)\n",
    "accured_benefits(170,30)\n",
    "accured_benefits(250,10)\n",
    "accured_benefits(80,22)\n",
    "accured_benefits(120,12)\n",
    "accured_benefits(280,9)"
   ]
  },
  {
   "cell_type": "markdown",
   "id": "b75db815",
   "metadata": {},
   "source": [
    "# OOP style for project 1"
   ]
  },
  {
   "cell_type": "code",
   "execution_count": 12,
   "id": "7ed54f9e",
   "metadata": {},
   "outputs": [
    {
     "name": "stdout",
     "output_type": "stream",
     "text": [
      "Enter Course name  CSC 201\n",
      "  CSC 201\n",
      "20\n",
      "Enter Course name   CSC 205\n",
      "   CSC 205\n",
      "30\n",
      "Enter Course name   STA 205\n",
      "   STA 205\n",
      "40\n",
      "90\n",
      "30.0\n",
      "22.22222222222222 33.33333333333333 44.44444444444444\n"
     ]
    }
   ],
   "source": [
    "class score_report():\n",
    "    def __init__(self):\n",
    "        pass\n",
    "    def coursename_scores(self,x,y,z):\n",
    "        print(str(input(\"Enter Course name\")))\n",
    "        print(int(x))\n",
    "        print(str(input(\"Enter Course name\")))\n",
    "        print(int(y))\n",
    "        print(str(input(\"Enter Course name\")))\n",
    "        print(int(z))\n",
    "    def total_score(self,x,y,z):\n",
    "        print(x+y+z)\n",
    "    def average_score(self,x,y,z):\n",
    "        print((x+y+z)/3)\n",
    "    def percentage_scores(self,x,y,z):\n",
    "        print(((x)/(x+y+z))*100,((y)/(x+y+z))*100,((z)/(x+y+z))*100)\n",
    "        \n",
    "d = score_report()\n",
    "d.coursename_scores(20,30,40)\n",
    "d.total_score(20,30,40)\n",
    "d.average_score(20,30,40)\n",
    "d.percentage_scores(20,30,40)\n",
    "\n",
    "        \n",
    "    \n",
    "       \n",
    "        \n",
    "        "
   ]
  },
  {
   "cell_type": "code",
   "execution_count": null,
   "id": "e804f6b3",
   "metadata": {},
   "outputs": [],
   "source": []
  }
 ],
 "metadata": {
  "kernelspec": {
   "display_name": "Python 3 (ipykernel)",
   "language": "python",
   "name": "python3"
  },
  "language_info": {
   "codemirror_mode": {
    "name": "ipython",
    "version": 3
   },
   "file_extension": ".py",
   "mimetype": "text/x-python",
   "name": "python",
   "nbconvert_exporter": "python",
   "pygments_lexer": "ipython3",
   "version": "3.9.7"
  }
 },
 "nbformat": 4,
 "nbformat_minor": 5
}
