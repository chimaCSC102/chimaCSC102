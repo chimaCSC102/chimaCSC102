{
 "cells": [
  {
   "cell_type": "code",
   "execution_count": 2,
   "id": "13031653",
   "metadata": {},
   "outputs": [],
   "source": [
    "import openpyxl"
   ]
  },
  {
   "cell_type": "code",
   "execution_count": 5,
   "id": "e7c4a6a1",
   "metadata": {},
   "outputs": [],
   "source": [
    "from openpyxl import Workbook, load_workbook"
   ]
  },
  {
   "cell_type": "code",
   "execution_count": 27,
   "id": "4a934363",
   "metadata": {},
   "outputs": [],
   "source": [
    "wb = Workbook()"
   ]
  },
  {
   "cell_type": "code",
   "execution_count": 28,
   "id": "c8943923",
   "metadata": {},
   "outputs": [],
   "source": [
    "ws = wb.active"
   ]
  },
  {
   "cell_type": "code",
   "execution_count": 29,
   "id": "4a38e61f",
   "metadata": {},
   "outputs": [],
   "source": [
    "ws.title = \"Students data\""
   ]
  },
  {
   "cell_type": "code",
   "execution_count": 36,
   "id": "cca98d79",
   "metadata": {},
   "outputs": [],
   "source": [
    "ws.append(['SN','NAMES','AGE','HEIGHT','SCORE'])\n",
    "ws.append(['1','ANN','14','5.5','80'])\n",
    "ws.append(['2','JANE','16','6','85'])\n",
    "ws.append(['3','JOAN','14','5.4','70'])\n",
    "ws.append(['4','CLARE','17','5.9','60'])\n",
    "ws.append(['5','ELIZABETH','16','5.6','76'])\n",
    "ws.append(['6','CHARLES','15','5.7','85'])\n",
    "ws.append(['7','JUDE','16','5.9','74'])\n",
    "ws.append(['8','JAMES','16','5.8','87'])\n",
    "ws.append(['9','KELVIN','17','6.1','75'])\n",
    "ws.append(['10','PROSPER','14','5.9','68'])"
   ]
  },
  {
   "cell_type": "code",
   "execution_count": 37,
   "id": "2bde052c",
   "metadata": {},
   "outputs": [],
   "source": [
    "wb.save('students_data.xlsx')"
   ]
  },
  {
   "cell_type": "markdown",
   "id": "f6123d5a",
   "metadata": {},
   "source": [
    "PSEUDO CODE:\n",
    "1)Get the data of the various students.\n",
    "2)Use the code (from openpyxl import workbook,load_workbook)to initialize the workspace.\n",
    "3)Use the following codes afterwards;\n",
    "    wb = Workbook()\n",
    "    ws = wb.active\n",
    "    ws.title = \"TITLE NAME\"\n",
    "    ws.append([\"input values to be put on table])\n",
    "4)For the table to be completed, ws.append is repeated multiple times.\n",
    "5)Save wb (wb.save(\"filename.xlsx\"))\n",
    "6)Open the file"
   ]
  },
  {
   "cell_type": "code",
   "execution_count": 39,
   "id": "01ee21d0",
   "metadata": {},
   "outputs": [],
   "source": []
  },
  {
   "cell_type": "code",
   "execution_count": 40,
   "id": "da0ec8ef",
   "metadata": {},
   "outputs": [
    {
     "name": "stdout",
     "output_type": "stream",
     "text": [
      "Great\n",
      "None\n"
     ]
    }
   ],
   "source": []
  },
  {
   "cell_type": "code",
   "execution_count": null,
   "id": "e940ef86",
   "metadata": {},
   "outputs": [],
   "source": []
  }
 ],
 "metadata": {
  "kernelspec": {
   "display_name": "Python 3 (ipykernel)",
   "language": "python",
   "name": "python3"
  },
  "language_info": {
   "codemirror_mode": {
    "name": "ipython",
    "version": 3
   },
   "file_extension": ".py",
   "mimetype": "text/x-python",
   "name": "python",
   "nbconvert_exporter": "python",
   "pygments_lexer": "ipython3",
   "version": "3.9.7"
  }
 },
 "nbformat": 4,
 "nbformat_minor": 5
}
