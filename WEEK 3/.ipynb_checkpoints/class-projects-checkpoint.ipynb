{
 "cells": [
  {
   "cell_type": "markdown",
   "id": "d1ebb0dc",
   "metadata": {},
   "source": [
    "### NAME: CHIMA OKWUOKEI STANISLAUS\n",
    "### MAT. NO: 21120612567\n",
    "### EMAIL: chima.okwuokei@pau.edu.ng"
   ]
  },
  {
   "cell_type": "markdown",
   "id": "a567d2a9",
   "metadata": {},
   "source": [
    "# Project 1\n",
    "# PSEUDOCODE"
   ]
  },
  {
   "cell_type": "markdown",
   "id": "05955fd0",
   "metadata": {},
   "source": [
    "INPUT;\n",
    "\n",
    "\n",
    "\n",
    "a=55\n",
    "\n",
    "\n",
    "\n",
    "b=17\n",
    "\n",
    "\n",
    "\n",
    "COMPUTE (a-b)\n",
    "\n",
    "\n",
    "\n",
    "IF a-b>17\n",
    "\n",
    "\n",
    "\n",
    "PRINT 2*(a-b)\n"
   ]
  },
  {
   "cell_type": "code",
   "execution_count": 8,
   "id": "9ea3361f",
   "metadata": {},
   "outputs": [
    {
     "name": "stdout",
     "output_type": "stream",
     "text": [
      "38\n"
     ]
    }
   ],
   "source": [
    "a=55\n",
    "b=17\n",
    "print(a-b)\n",
    "#n=(a-b)"
   ]
  },
  {
   "cell_type": "code",
   "execution_count": 9,
   "id": "bf1b83a2",
   "metadata": {},
   "outputs": [
    {
     "name": "stdout",
     "output_type": "stream",
     "text": [
      "76\n"
     ]
    }
   ],
   "source": [
    "n=38\n",
    "#n>17\n",
    "print(2*38)"
   ]
  },
  {
   "cell_type": "markdown",
   "id": "869ab60f",
   "metadata": {},
   "source": [
    "![](images/picture_1.png)"
   ]
  },
  {
   "cell_type": "markdown",
   "id": "93a56b41",
   "metadata": {},
   "source": [
    "# PROJECT 2\n",
    "# PSEUDOCODE"
   ]
  },
  {
   "cell_type": "markdown",
   "id": "cb8358ed",
   "metadata": {},
   "source": [
    "INPUT; a,b,c\n",
    "\n",
    "\n",
    "\n",
    "COMPUTE (a + b + c )\n",
    "\n",
    "\n",
    "\n",
    "If the three values are equal, PRINT thrice of their sum\n"
   ]
  },
  {
   "cell_type": "code",
   "execution_count": 13,
   "id": "460c961a",
   "metadata": {},
   "outputs": [
    {
     "name": "stdout",
     "output_type": "stream",
     "text": [
      "9\n"
     ]
    }
   ],
   "source": [
    "#for when all values are equal\n",
    "a=3\n",
    "b=3\n",
    "c=3\n",
    "print(a+b+c)"
   ]
  },
  {
   "cell_type": "code",
   "execution_count": 14,
   "id": "4a7760cb",
   "metadata": {},
   "outputs": [
    {
     "name": "stdout",
     "output_type": "stream",
     "text": [
      "27\n"
     ]
    }
   ],
   "source": [
    "s=9\n",
    "print (3*9)"
   ]
  },
  {
   "cell_type": "markdown",
   "id": "8e2a990c",
   "metadata": {},
   "source": [
    "![](images/picture_2.png)"
   ]
  },
  {
   "cell_type": "markdown",
   "id": "a640bdd4",
   "metadata": {},
   "source": [
    "# PROJECT 3\n",
    "# PSEUDOCODE"
   ]
  },
  {
   "cell_type": "markdown",
   "id": "6fa3b2ab",
   "metadata": {},
   "source": [
    "INPUT;a,b\n",
    "\n",
    "\n",
    "\n",
    "PRINT TRUE IF THE TWO GIVEN INTEGERS VALUES ARE;\n",
    "\n",
    "\n",
    "\n",
    "\"EQUAL\"\n",
    "\n",
    "\n",
    "\n",
    "\"SUM IS 5\"\n",
    "\n",
    "\n",
    "\n",
    "\"DIFF IS 5\"\n"
   ]
  },
  {
   "cell_type": "code",
   "execution_count": 31,
   "id": "01edb01e",
   "metadata": {},
   "outputs": [
    {
     "name": "stdout",
     "output_type": "stream",
     "text": [
      "True\n"
     ]
    }
   ],
   "source": [
    "#CASE 1\n",
    "a=3\n",
    "b=2\n",
    "c=(a+b)\n",
    "if c==5:\n",
    "    print (True)\n"
   ]
  },
  {
   "cell_type": "code",
   "execution_count": 33,
   "id": "2da8a3b2",
   "metadata": {},
   "outputs": [],
   "source": [
    "a=3\n",
    "b=2\n",
    "if a==b:\n",
    "    print(True)"
   ]
  },
  {
   "cell_type": "code",
   "execution_count": 34,
   "id": "4d11ea56",
   "metadata": {},
   "outputs": [],
   "source": [
    "a=3\n",
    "b=2\n",
    "c=a-b\n",
    "if c==5:\n",
    "    print(True)"
   ]
  },
  {
   "cell_type": "code",
   "execution_count": 36,
   "id": "1bf0e0b3",
   "metadata": {},
   "outputs": [
    {
     "name": "stdout",
     "output_type": "stream",
     "text": [
      "True\n"
     ]
    }
   ],
   "source": [
    "#CASE 2\n",
    "a=2\n",
    "b=2\n",
    "if a==b:\n",
    "    print (True)"
   ]
  },
  {
   "cell_type": "code",
   "execution_count": 37,
   "id": "d19f6ae9",
   "metadata": {},
   "outputs": [],
   "source": [
    "a=2\n",
    "b=2\n",
    "c=a-b\n",
    "if c==5:\n",
    "    print(True)"
   ]
  },
  {
   "cell_type": "code",
   "execution_count": 38,
   "id": "9c1d31fe",
   "metadata": {},
   "outputs": [],
   "source": [
    "a=2\n",
    "b=2\n",
    "c=a+b\n",
    "if c==5:\n",
    "    print(True)"
   ]
  },
  {
   "cell_type": "code",
   "execution_count": 39,
   "id": "987721a8",
   "metadata": {},
   "outputs": [
    {
     "name": "stdout",
     "output_type": "stream",
     "text": [
      "True\n"
     ]
    }
   ],
   "source": [
    "#CASE 3\n",
    "a=7\n",
    "b=2\n",
    "c=a-b\n",
    "if c==5:\n",
    "    print(True)"
   ]
  },
  {
   "cell_type": "code",
   "execution_count": 40,
   "id": "e5655d95",
   "metadata": {},
   "outputs": [],
   "source": [
    "a=7\n",
    "b=2\n",
    "c=a+b\n",
    "if c==5:\n",
    "    print(True)"
   ]
  },
  {
   "cell_type": "code",
   "execution_count": 43,
   "id": "62404b5d",
   "metadata": {},
   "outputs": [],
   "source": [
    "a=7\n",
    "b=2\n",
    "if a==b:\n",
    "    print(True)"
   ]
  },
  {
   "cell_type": "markdown",
   "id": "7c5c6ebf",
   "metadata": {},
   "source": [
    "![](images/picture_3.png)"
   ]
  },
  {
   "cell_type": "markdown",
   "id": "f66dc4ae",
   "metadata": {},
   "source": [
    "# PROJECT 4\n",
    "# PSEUDOCODE"
   ]
  },
  {
   "cell_type": "markdown",
   "id": "b617461c",
   "metadata": {},
   "source": [
    "INPUT a,b,c\n",
    "\n",
    "\n",
    "PRINT b,c,a\n"
   ]
  },
  {
   "cell_type": "code",
   "execution_count": 46,
   "id": "3fbf6aba",
   "metadata": {},
   "outputs": [
    {
     "name": "stdout",
     "output_type": "stream",
     "text": [
      "3 7 8\n"
     ]
    }
   ],
   "source": [
    "a=8\n",
    "b=3\n",
    "c=7\n",
    "print(b   ,   c   ,a)"
   ]
  },
  {
   "cell_type": "markdown",
   "id": "dcd419dd",
   "metadata": {},
   "source": [
    "![](images/picture_4.png)"
   ]
  },
  {
   "cell_type": "markdown",
   "id": "068966b1",
   "metadata": {},
   "source": [
    "# PROJECT 5\n",
    "# PSEUDOCODE\n"
   ]
  },
  {
   "cell_type": "markdown",
   "id": "2322f9b5",
   "metadata": {},
   "source": [
    "INPUT a=6\n",
    "\n",
    "\n",
    "\n",
    "PRINT numbers less than 6 that are positive integers\n",
    "\n",
    "\n",
    "\n",
    "COMPUTE the cube of those numbers \n",
    "\n",
    "\n",
    "\n",
    "COMPUTE the sum of the cube of those numbers\n"
   ]
  },
  {
   "cell_type": "code",
   "execution_count": 53,
   "id": "ebedd3d7",
   "metadata": {},
   "outputs": [
    {
     "name": "stdout",
     "output_type": "stream",
     "text": [
      "1\n",
      "2\n",
      "3\n",
      "4\n",
      "5\n"
     ]
    }
   ],
   "source": [
    "for a in range (1,6):\n",
    "    print (a)"
   ]
  },
  {
   "cell_type": "code",
   "execution_count": 52,
   "id": "e2fe126f",
   "metadata": {},
   "outputs": [
    {
     "name": "stdout",
     "output_type": "stream",
     "text": [
      "1 8 27 64 125\n"
     ]
    }
   ],
   "source": [
    "a=1\n",
    "b=2\n",
    "c=3\n",
    "d=4\n",
    "e=5\n",
    "print((a**3),(b**3),(c**3),(d**3),(e**3))"
   ]
  },
  {
   "cell_type": "code",
   "execution_count": 55,
   "id": "e94b0397",
   "metadata": {},
   "outputs": [
    {
     "name": "stdout",
     "output_type": "stream",
     "text": [
      "225\n"
     ]
    }
   ],
   "source": [
    "a=1\n",
    "b=8\n",
    "c=27\n",
    "d=64\n",
    "e=125\n",
    "print(a+b+c+d+e)"
   ]
  },
  {
   "cell_type": "markdown",
   "id": "47ad6d61",
   "metadata": {},
   "source": [
    "![](images/picture_4.png)"
   ]
  },
  {
   "cell_type": "code",
   "execution_count": null,
   "id": "b2e886ed",
   "metadata": {},
   "outputs": [],
   "source": []
  }
 ],
 "metadata": {
  "kernelspec": {
   "display_name": "Python 3 (ipykernel)",
   "language": "python",
   "name": "python3"
  },
  "language_info": {
   "codemirror_mode": {
    "name": "ipython",
    "version": 3
   },
   "file_extension": ".py",
   "mimetype": "text/x-python",
   "name": "python",
   "nbconvert_exporter": "python",
   "pygments_lexer": "ipython3",
   "version": "3.9.7"
  }
 },
 "nbformat": 4,
 "nbformat_minor": 5
}
