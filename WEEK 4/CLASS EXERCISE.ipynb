{
 "cells": [
  {
   "cell_type": "markdown",
   "id": "a00e01a9",
   "metadata": {},
   "source": [
    "![](images/code_1.png)"
   ]
  },
  {
   "cell_type": "code",
   "execution_count": 1,
   "id": "14f7b9b1",
   "metadata": {},
   "outputs": [
    {
     "name": "stdout",
     "output_type": "stream",
     "text": [
      "Enter a number to generate its pattern=4\n",
      "1 \n",
      "1 \n",
      "2 \n",
      "1 \n",
      "2 \n",
      "3 \n",
      "1 \n",
      "2 \n",
      "3 \n",
      "4 \n"
     ]
    }
   ],
   "source": [
    "num = int(input(\"Enter a number to generate its pattern=\"))\n",
    "for i in range(1,num + 1):\n",
    "    for j in range(1,i+1):\n",
    "        print(j,end=\" \")\n",
    "        print()\n",
    "    "
   ]
  },
  {
   "cell_type": "markdown",
   "id": "d1c6b72d",
   "metadata": {},
   "source": [
    "![](images/code_2.png)"
   ]
  },
  {
   "cell_type": "code",
   "execution_count": null,
   "id": "fa07bd45",
   "metadata": {},
   "outputs": [],
   "source": [
    "num=2\n",
    "for i in range(2,50):\n",
    "    j= 2\n",
    "    while (j <= (i/2)):\n",
    "        if (i % j == 0):\n",
    "            break \n",
    "            j += 1\n",
    "            if (j> i/j):\n",
    "                print (i, \"is a prime number\")\n",
    "                print (\"Bye Bye!!\")"
   ]
  },
  {
   "cell_type": "markdown",
   "id": "85e205ec",
   "metadata": {},
   "source": [
    "![](images/code_3.png)"
   ]
  },
  {
   "cell_type": "code",
   "execution_count": 5,
   "id": "1c190b6a",
   "metadata": {},
   "outputs": [
    {
     "ename": "SyntaxError",
     "evalue": "invalid syntax (Temp/ipykernel_3896/87263607.py, line 5)",
     "output_type": "error",
     "traceback": [
      "\u001b[1;36m  File \u001b[1;32m\"C:\\Users\\Samsung\\AppData\\Local\\Temp/ipykernel_3896/87263607.py\"\u001b[1;36m, line \u001b[1;32m5\u001b[0m\n\u001b[1;33m    elif a == 0:\u001b[0m\n\u001b[1;37m    ^\u001b[0m\n\u001b[1;31mSyntaxError\u001b[0m\u001b[1;31m:\u001b[0m invalid syntax\n"
     ]
    }
   ],
   "source": [
    "a = int(input(\"Enter a number: \"))\n",
    "fact=1\n",
    "if a < 0:\n",
    "    print(\"Sorry, factorial does not exist for negative numbers\")\n",
    "    elif a == 0:\n",
    "        print(\"The factorial of 0 is 1\")\n",
    "        else:\n",
    "            for i in range(1, a+1):\n",
    "                fact = fact*i\n",
    "                print(\"factorial of\",a,\"is\",fact)"
   ]
  },
  {
   "cell_type": "markdown",
   "id": "372cd964",
   "metadata": {},
   "source": [
    "![](images/code_4.png)"
   ]
  },
  {
   "cell_type": "code",
   "execution_count": 10,
   "id": "c733a52e",
   "metadata": {},
   "outputs": [
    {
     "name": "stdout",
     "output_type": "stream",
     "text": [
      "Enter the number to be checked: 2\n"
     ]
    }
   ],
   "source": [
    "num= int(input(\"Enter the number to be checked: \"))\n",
    "flag= 0\n",
    "if num > 1:\n",
    "    for i in range(2, int(num / 2)):\n",
    "        if (num % i == 0):\n",
    "            flag=1\n",
    "            print(\"Entered number is <=1,execute again!\")\n",
    "                \n",
    "    "
   ]
  },
  {
   "cell_type": "code",
   "execution_count": null,
   "id": "096a42b5",
   "metadata": {},
   "outputs": [],
   "source": []
  }
 ],
 "metadata": {
  "kernelspec": {
   "display_name": "Python 3 (ipykernel)",
   "language": "python",
   "name": "python3"
  },
  "language_info": {
   "codemirror_mode": {
    "name": "ipython",
    "version": 3
   },
   "file_extension": ".py",
   "mimetype": "text/x-python",
   "name": "python",
   "nbconvert_exporter": "python",
   "pygments_lexer": "ipython3",
   "version": "3.9.7"
  }
 },
 "nbformat": 4,
 "nbformat_minor": 5
}
