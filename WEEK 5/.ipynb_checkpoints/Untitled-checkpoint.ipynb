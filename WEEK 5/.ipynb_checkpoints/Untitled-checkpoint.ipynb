{
 "cells": [
  {
   "cell_type": "markdown",
   "id": "3f7a013c",
   "metadata": {},
   "source": [
    "# Project IV"
   ]
  },
  {
   "cell_type": "code",
   "execution_count": 7,
   "id": "607b6b4a",
   "metadata": {},
   "outputs": [],
   "source": [
    "def div(x,y):\n",
    "    z=x/y\n",
    "    return z"
   ]
  },
  {
   "cell_type": "code",
   "execution_count": 10,
   "id": "bf79ffe8",
   "metadata": {},
   "outputs": [
    {
     "name": "stdout",
     "output_type": "stream",
     "text": [
      "25.0\n"
     ]
    }
   ],
   "source": [
    "print (div(50,2))"
   ]
  },
  {
   "cell_type": "markdown",
   "id": "2e0db9c3",
   "metadata": {},
   "source": [
    "PSEUDOCODE FOR PROJECT IV\n",
    "\n",
    "\n",
    "\n",
    "\n",
    "1)INPUT Distance(50miles)\n",
    "\n",
    "\n",
    "\n",
    "\n",
    "2)INPUT Time taken(2hours)\n",
    "\n",
    "\n",
    "\n",
    "\n",
    "3)Print (Velocity=Distance/time taken)\n",
    "\n",
    "\n",
    "\n",
    "\n",
    "4)Output Velocity determines how fast the car moves.\n"
   ]
  },
  {
   "cell_type": "code",
   "execution_count": null,
   "id": "09c65955",
   "metadata": {},
   "outputs": [],
   "source": []
  },
  {
   "cell_type": "markdown",
   "id": "247c623d",
   "metadata": {},
   "source": [
    "# Project iii\n"
   ]
  },
  {
   "cell_type": "code",
   "execution_count": 15,
   "id": "5cf6c197",
   "metadata": {},
   "outputs": [
    {
     "name": "stdout",
     "output_type": "stream",
     "text": [
      "12\n"
     ]
    }
   ],
   "source": [
    "#Even is the winner\n",
    "#Lets assume that Jane(a) has a set out 3 fingers and Jack(b) has set out 9 fingers\n",
    "#Jane is for even, Jack is for odd\n",
    "a = 3\n",
    "b = 9\n",
    "c = a + b\n",
    "print (c)\n",
    "\n"
   ]
  },
  {
   "cell_type": "code",
   "execution_count": 35,
   "id": "56269010",
   "metadata": {},
   "outputs": [
    {
     "name": "stdout",
     "output_type": "stream",
     "text": [
      "Enter number   12\n",
      "12 is an even number,thus Jane is the winner\n"
     ]
    }
   ],
   "source": [
    "m = int(input(\"Enter number\"))\n",
    "if m % 2 == 0:\n",
    "    print(m,\"is an even number,thus Jane is the winner\")\n",
    "else:\n",
    "    print(m,\"is an odd number\")"
   ]
  },
  {
   "cell_type": "markdown",
   "id": "cb5a81aa",
   "metadata": {},
   "source": [
    "PSEUDOCODE FOR PROJECT III\n",
    "1)INPUT  Even is the winner\n",
    "2)INPUT Jane puts out 3(a) fingers and Jack puts out (9) fingers\n",
    "3)INPUT Jane is for even and Jack is for odd\n",
    "4)COMPUTE a + b\n",
    "5)Use the code;\n",
    "m = int(input(\"Enter number\"))\n",
    "if m % 2 == 0:\n",
    "    print(m,\"is an even number\")\n",
    "else:\n",
    "    print(m,\"is an odd number\")\n",
    "6)IF OUTPUT is Even,Print Jane is the winner \n",
    "\n"
   ]
  },
  {
   "cell_type": "code",
   "execution_count": null,
   "id": "f8513b19",
   "metadata": {},
   "outputs": [],
   "source": []
  },
  {
   "cell_type": "markdown",
   "id": "482cbe6e",
   "metadata": {},
   "source": [
    "# Project i"
   ]
  },
  {
   "cell_type": "code",
   "execution_count": 100,
   "id": "18049f74",
   "metadata": {},
   "outputs": [],
   "source": [
    "def avoids(a,b):\n",
    "    for names in a:\n",
    "        if names in b:\n",
    "            return False\n",
    "         \n",
    "        return True\n",
    "        "
   ]
  },
  {
   "cell_type": "code",
   "execution_count": 101,
   "id": "ea40f32c",
   "metadata": {},
   "outputs": [
    {
     "name": "stdout",
     "output_type": "stream",
     "text": [
      "True\n"
     ]
    }
   ],
   "source": [
    "print (avoids(\"celestine\",\"ugo\"))"
   ]
  },
  {
   "cell_type": "code",
   "execution_count": 102,
   "id": "ab539e00",
   "metadata": {},
   "outputs": [],
   "source": [
    "def avoids(c,d):\n",
    "    for names in c:\n",
    "        if names in d:\n",
    "            return False\n",
    "        \n",
    "        return True"
   ]
  },
  {
   "cell_type": "code",
   "execution_count": 103,
   "id": "36183d36",
   "metadata": {},
   "outputs": [
    {
     "name": "stdout",
     "output_type": "stream",
     "text": [
      "True\n"
     ]
    }
   ],
   "source": [
    "print (avoids(\"temi\",\"alex\"))"
   ]
  },
  {
   "cell_type": "code",
   "execution_count": 104,
   "id": "b33aee55",
   "metadata": {},
   "outputs": [],
   "source": [
    "def avoids(e,f):\n",
    "    for names in e:\n",
    "        if names in f:\n",
    "            return false\n",
    "        return True"
   ]
  },
  {
   "cell_type": "code",
   "execution_count": 97,
   "id": "cb05a679",
   "metadata": {},
   "outputs": [
    {
     "name": "stdout",
     "output_type": "stream",
     "text": [
      "True\n"
     ]
    }
   ],
   "source": [
    "print (avoids(\"chima\",\"sam\"))"
   ]
  },
  {
   "cell_type": "code",
   "execution_count": null,
   "id": "9039117f",
   "metadata": {},
   "outputs": [],
   "source": []
  },
  {
   "cell_type": "code",
   "execution_count": null,
   "id": "1e50dfa6",
   "metadata": {},
   "outputs": [],
   "source": []
  },
  {
   "cell_type": "markdown",
   "id": "061c509d",
   "metadata": {},
   "source": [
    "#  Project ii"
   ]
  },
  {
   "cell_type": "code",
   "execution_count": 115,
   "id": "64e0063f",
   "metadata": {},
   "outputs": [],
   "source": [
    "def uses_all(a,e):\n",
    "    for word in a:\n",
    "        if word not in e:\n",
    "            return True\n",
    "    return False"
   ]
  },
  {
   "cell_type": "code",
   "execution_count": 116,
   "id": "992ffa62",
   "metadata": {},
   "outputs": [
    {
     "name": "stdout",
     "output_type": "stream",
     "text": [
      "True\n"
     ]
    }
   ],
   "source": [
    "print (uses_all(\"chima\",\"testy\"))"
   ]
  },
  {
   "cell_type": "code",
   "execution_count": 117,
   "id": "5ae70463",
   "metadata": {},
   "outputs": [],
   "source": [
    "def uses_all(i,o):\n",
    "    for word in i:\n",
    "        if word not in o:\n",
    "            return True\n",
    "        return False"
   ]
  },
  {
   "cell_type": "code",
   "execution_count": 119,
   "id": "d7a01517",
   "metadata": {},
   "outputs": [
    {
     "name": "stdout",
     "output_type": "stream",
     "text": [
      "True\n"
     ]
    }
   ],
   "source": [
    "print (uses_all(\"iyanu\",\"okpala\"))"
   ]
  },
  {
   "cell_type": "code",
   "execution_count": 123,
   "id": "e6a2183e",
   "metadata": {},
   "outputs": [],
   "source": [
    "def uses_all(u):\n",
    "    for word in u:\n",
    "        return True"
   ]
  },
  {
   "cell_type": "code",
   "execution_count": 124,
   "id": "7f0ac9ae",
   "metadata": {},
   "outputs": [
    {
     "name": "stdout",
     "output_type": "stream",
     "text": [
      "True\n"
     ]
    }
   ],
   "source": [
    "print(uses_all(\"Uche\"))"
   ]
  },
  {
   "cell_type": "code",
   "execution_count": null,
   "id": "7d2aa8d6",
   "metadata": {},
   "outputs": [],
   "source": []
  }
 ],
 "metadata": {
  "kernelspec": {
   "display_name": "Python 3 (ipykernel)",
   "language": "python",
   "name": "python3"
  },
  "language_info": {
   "codemirror_mode": {
    "name": "ipython",
    "version": 3
   },
   "file_extension": ".py",
   "mimetype": "text/x-python",
   "name": "python",
   "nbconvert_exporter": "python",
   "pygments_lexer": "ipython3",
   "version": "3.9.7"
  }
 },
 "nbformat": 4,
 "nbformat_minor": 5
}
